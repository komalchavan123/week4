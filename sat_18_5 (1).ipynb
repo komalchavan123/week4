{
  "nbformat": 4,
  "nbformat_minor": 0,
  "metadata": {
    "colab": {
      "name": "sat 18/5.ipynb",
      "version": "0.3.2",
      "provenance": []
    },
    "kernelspec": {
      "name": "python3",
      "display_name": "Python 3"
    }
  },
  "cells": [
    {
      "cell_type": "code",
      "metadata": {
        "id": "9qi9msLRShTm",
        "colab_type": "code",
        "outputId": "93a9b065-2a99-4ac7-cbcd-30c3283f92b6",
        "colab": {
          "base_uri": "https://localhost:8080/",
          "height": 52
        }
      },
      "source": [
        "\n",
        "list1=input(\"enter a name:\")\n",
        "list2=[1,2,3,4,5,6,7,8,9,10,11,12,13,14,15,16,17,18,19,20,21,22,23,24,25,26,27,28,29,30,31]\n",
        "list3=[1,2,3,4,5,6,7]\n",
        "list4=[\"jovin\",\"pratiksha\",\"nitin\",\"komal\",\"ishika\",\"dipesh\"]\n",
        "\n",
        "if(list1==\"jovin\"):\n",
        "  y=list2[0:31]\n",
        "  print(y)\n",
        "  \n",
        "elif(list1==\"pratiksha\"):\n",
        "  y=list2[1:31]\n",
        "  print(y)\n",
        "  \n",
        "elif(list1==\"nitin\"):\n",
        "  y=list2[2:31]\n",
        "  print(y)\n",
        "\n",
        "elif(list1==\"komal\"):\n",
        "  y=list2[3:31]\n",
        "  print(y)\n",
        "  \n",
        "elif(list1==\"ishika\"):\n",
        "  y=list2[4:31]\n",
        "  print(y)\n",
        "  \n",
        "elif(list1==\"dipesh\"):\n",
        "  y=list2[5:31]\n",
        "  print(y)\n",
        "  \n",
        "else:\n",
        "  print(\":)\")\n",
        "  \n"
      ],
      "execution_count": 0,
      "outputs": [
        {
          "output_type": "stream",
          "text": [
            "enter a name:komal\n",
            "[4, 5, 6, 7, 8, 9, 10, 11, 12, 13, 14, 15, 16, 17, 18, 19, 20, 21, 22, 23, 24, 25, 26, 27, 28, 29, 30, 31]\n"
          ],
          "name": "stdout"
        }
      ]
    },
    {
      "cell_type": "code",
      "metadata": {
        "id": "Bs9j6TtEZy2Z",
        "colab_type": "code",
        "outputId": "33efd880-b725-48ca-ace4-1c773de78947",
        "colab": {
          "base_uri": "https://localhost:8080/",
          "height": 34
        }
      },
      "source": [
        "# animal list\n",
        "animal = ['cat', 'dog', 'rabbit']\n",
        "\n",
        "# an element is added\n",
        "animal.append('guinea pig')\n",
        "\n",
        "#Updated Animal List\n",
        "print('Updated animal list: ', animal)"
      ],
      "execution_count": 0,
      "outputs": [
        {
          "output_type": "stream",
          "text": [
            "Updated animal list:  ['cat', 'dog', 'rabbit', 'guinea pig']\n"
          ],
          "name": "stdout"
        }
      ]
    },
    {
      "cell_type": "code",
      "metadata": {
        "id": "x-SwSIWob4FJ",
        "colab_type": "code",
        "outputId": "65d8c41e-1320-4abe-b386-7d97eb96a97d",
        "colab": {
          "base_uri": "https://localhost:8080/",
          "height": 34
        }
      },
      "source": [
        "x=[[0,1],\"ved\",1,20,\"jov\",[0,1,\"ved\"]]\n",
        "y=x[5][2]\n",
        "print(y)"
      ],
      "execution_count": 0,
      "outputs": [
        {
          "output_type": "stream",
          "text": [
            "ved\n"
          ],
          "name": "stdout"
        }
      ]
    },
    {
      "cell_type": "code",
      "metadata": {
        "id": "Jcm5DxgjdfFF",
        "colab_type": "code",
        "outputId": "042cf429-e952-49ce-b7e2-6fada8a91fe6",
        "colab": {
          "base_uri": "https://localhost:8080/",
          "height": 34
        }
      },
      "source": [
        "y=[]\n",
        "\n",
        "x=[\n",
        "   [0,1,2,3,4,\"ved\",[0,1,2]],\n",
        "   [1,2,[\"ved\",\"shu\",\"prat\",\"jov\"],5,7.0],\n",
        "   [1,2,3,4,5,6,7,8,9,10],\n",
        "   [\"ram\",[1,0,[0.1,2],4]\n",
        "   ]]\n",
        "\n",
        "    \n",
        "y.append(x[1][2])\n",
        "   \n",
        "\n",
        "\n",
        "print(y)"
      ],
      "execution_count": 0,
      "outputs": [
        {
          "output_type": "stream",
          "text": [
            "[['ved', 'shu', 'prat', 'jov']]\n"
          ],
          "name": "stdout"
        }
      ]
    },
    {
      "cell_type": "code",
      "metadata": {
        "id": "VbpzBWKgyBXj",
        "colab_type": "code",
        "outputId": "8352ede7-23b2-4ac0-c621-3b1815056245",
        "colab": {
          "base_uri": "https://localhost:8080/",
          "height": 34
        }
      },
      "source": [
        "x={\"ram\" : 1 , \"laxman\" : 2}\n",
        "x[\"ram\"]\n",
        "print(x[\"ram\"])\n"
      ],
      "execution_count": 0,
      "outputs": [
        {
          "output_type": "stream",
          "text": [
            "1\n"
          ],
          "name": "stdout"
        }
      ]
    },
    {
      "cell_type": "code",
      "metadata": {
        "id": "EIw_ujQI2aep",
        "colab_type": "code",
        "outputId": "45ca384f-dcb7-4f58-fd50-b09ba7fce64e",
        "colab": {
          "base_uri": "https://localhost:8080/",
          "height": 34
        }
      },
      "source": [
        "x={\"komal\":[{\"empid\":215687,\"dob\":9/8/1996,\"gender\":\"female\"}]}\n",
        "print(x[\"komal\"][0][\"dob\"])"
      ],
      "execution_count": 0,
      "outputs": [
        {
          "output_type": "stream",
          "text": [
            "0.0005636272545090181\n"
          ],
          "name": "stdout"
        }
      ]
    },
    {
      "cell_type": "code",
      "metadata": {
        "id": "9OvpRX7D7xBk",
        "colab_type": "code",
        "colab": {}
      },
      "source": [
        "x={\"vedant\":1,\"jovin\":2,\"pratu\":3,\"ishika\":4}\n",
        "list1=[\"vedant\",\"jovin\",\"pratu\",\"ishika\"]\n",
        "list2=[1,2,3,4,5,6,7]"
      ],
      "execution_count": 0,
      "outputs": []
    },
    {
      "cell_type": "code",
      "metadata": {
        "id": "hqIHC7CT8kn9",
        "colab_type": "code",
        "outputId": "ba9eb973-9850-48b9-8f39-9fa1fd66ab34",
        "colab": {
          "base_uri": "https://localhost:8080/",
          "height": 70
        }
      },
      "source": [
        "name=input(\"enter a name: \")\n",
        "attribute=input(\"ask me attribute about person: \")\n",
        "\n",
        "def my_function():\n",
        "  x={\"ram\":[{\"empid\":215687,\"dob\":\"09/08/1996\",\"gender\":\"male\"}], \"laxman\":[{\"empid\":2156487,\"dob\":\"9/7/1996\",\"gender\":\"male\"}],\"charan\":[{\"empid\":2149687,\"dob\":\"15/8/1996\",\"gender\":\"female\"}]}\n",
        "  print(x[name][0][attribute])\n",
        "\n",
        "my_function()\n"
      ],
      "execution_count": 0,
      "outputs": [
        {
          "output_type": "stream",
          "text": [
            "enter a name: ram\n",
            "ask me attribute about person: dob\n",
            "09/08/1996\n"
          ],
          "name": "stdout"
        }
      ]
    },
    {
      "cell_type": "code",
      "metadata": {
        "id": "7tIu_S1ZDEo2",
        "colab_type": "code",
        "outputId": "37e1d47a-4429-499b-d51a-24587e4627fc",
        "colab": {
          "base_uri": "https://localhost:8080/",
          "height": 67
        }
      },
      "source": [
        "name=input(\"enter a name: \")\n",
        "attribute=input(\"ask me attribute about person: \")\n",
        "\n",
        "def my_function():\n",
        "  x={\"ram\":[{\"empid\":215687,\"dob\":\"09/08/1996\",\"gender\":\"male\"}], \"laxman\":[{\"empid\":2156487,\"dob\":\"9/7/1996\",\"gender\":\"male\"}],\"charan\":[{\"empid\":2149687,\"dob\":\"15/8/1996\",\"gender\":\"female\"}]}\n",
        "  x[\"ravan\"]=[{\"empid\":45689,\"dob\":\"07/06/1995\",\"gender\":\"male\"}]\n",
        "  \n",
        "  print(x[name][0][attribute])\n",
        "my_function()\n",
        "  "
      ],
      "execution_count": 0,
      "outputs": [
        {
          "output_type": "stream",
          "text": [
            "enter a name: ram\n",
            "ask me attribute about person: gender\n",
            "male\n"
          ],
          "name": "stdout"
        }
      ]
    },
    {
      "cell_type": "code",
      "metadata": {
        "id": "9vRghygbEm-8",
        "colab_type": "code",
        "outputId": "64259bca-8961-402f-f47a-b3fc2f6497ce",
        "colab": {
          "base_uri": "https://localhost:8080/",
          "height": 125
        }
      },
      "source": [
        "name=input(\"enter a name: \")\n",
        "empid=input(\"ask me attribute about empid: \")\n",
        "dob=input(\"enter a dob: \")\n",
        "gender=input(\"ypur gender: \")\n",
        "\n",
        "def my():\n",
        "\n",
        "  x={\"ram\":[{\"empid\":215687,\"dob\":\"09/08/1996\",\"gender\":\"male\"}], \"laxman\":[{\"empid\":2156487,\"dob\":\"9/7/1996\",\"gender\":\"male\"}],\"charan\":[{\"empid\":2149687,\"dob\":\"15/8/1996\",\"gender\":\"female\"}]}\n",
        "  x[name]=[{\"empid\":empid,\"dob\":dob,\"gender\":gender}]\n",
        "  del x[\"laxman\"]\n",
        "\n",
        "  print(x)\n",
        "\n",
        "my()"
      ],
      "execution_count": 0,
      "outputs": [
        {
          "output_type": "stream",
          "text": [
            "enter a name: seeta\n",
            "ask me attribute about empid: 268978\n",
            "enter a dob: 20/08/1996\n",
            "ypur gender: female\n",
            "{'ram': [{'empid': 215687, 'dob': '09/08/1996', 'gender': 'male'}], 'charan': [{'empid': 2149687, 'dob': '15/8/1996', 'gender': 'female'}], 'seeta': [{'empid': '268978', 'dob': '20/08/1996', 'gender': 'female'}]}\n"
          ],
          "name": "stdout"
        }
      ]
    },
    {
      "cell_type": "code",
      "metadata": {
        "id": "RmlD5-cVBrxY",
        "colab_type": "code",
        "outputId": "12ddd780-8732-470a-9046-c3660d2201dc",
        "colab": {
          "base_uri": "https://localhost:8080/",
          "height": 33
        }
      },
      "source": [
        "colors={\"vedant\":\"pink\",\"jovin\":\"sky blue\",\"navin\":\"yellow\",\"ishika\":\"purple\",\"komal\":\"gray\",\"dipesh\":\"oxford blue\"}\n",
        "\n",
        "colors[\"pratiksha\"]=\"red\"\n",
        "colors[\"mayur\"]=\"pink\"\n",
        "\n",
        "\n",
        "print(colors)"
      ],
      "execution_count": 0,
      "outputs": [
        {
          "output_type": "stream",
          "text": [
            "{'vedant': 'pink', 'jovin': 'sky blue', 'navin': 'yellow', 'ishika': 'purple', 'komal': 'gray', 'dipesh': 'oxford blue', 'pratiksha': 'red', 'mayur': 'pink'}\n"
          ],
          "name": "stdout"
        }
      ]
    }
  ]
}
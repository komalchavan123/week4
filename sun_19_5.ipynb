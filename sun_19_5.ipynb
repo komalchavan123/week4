{
  "nbformat": 4,
  "nbformat_minor": 0,
  "metadata": {
    "colab": {
      "name": "sun 19/5.ipynb",
      "version": "0.3.2",
      "provenance": []
    },
    "kernelspec": {
      "name": "python3",
      "display_name": "Python 3"
    }
  },
  "cells": [
    {
      "cell_type": "code",
      "metadata": {
        "id": "rpedoPAkdGmm",
        "colab_type": "code",
        "outputId": "307b5b93-504e-48e8-d741-b09c52ff8536",
        "colab": {
          "base_uri": "https://localhost:8080/",
          "height": 105
        }
      },
      "source": [
        "l=[1,1,2,3,4,4,5]\n",
        "s=[]\n",
        "s=set(l)\n",
        "\n",
        "for i in s:\n",
        "  if (i==3):\n",
        "    print(\"amazing india\")\n",
        "  elif (i==5):\n",
        "    print(\"india\")\n",
        "  else:\n",
        "    print(\":)\")"
      ],
      "execution_count": 0,
      "outputs": [
        {
          "output_type": "stream",
          "text": [
            ":)\n",
            ":)\n",
            "amazing india\n",
            ":)\n",
            "india\n"
          ],
          "name": "stdout"
        }
      ]
    },
    {
      "cell_type": "code",
      "metadata": {
        "id": "WHDwmFZ-rhJE",
        "colab_type": "code",
        "colab": {}
      },
      "source": [
        "class tops()\n"
      ],
      "execution_count": 0,
      "outputs": []
    },
    {
      "cell_type": "markdown",
      "metadata": {
        "id": "FiGGlrcVtumk",
        "colab_type": "text"
      },
      "source": [
        "class tops()\n",
        "color \n",
        "size\n",
        "fabric\n",
        "sleeves\n",
        " \n",
        " color()\n",
        " red\n",
        " green\n",
        " blue\n",
        " \n",
        " size()\n",
        " medium\n",
        " large\n",
        " extra large\n",
        " \n",
        " fabric()\n",
        " georget\n",
        " cotton\n",
        " rayon\n",
        " linen\n"
      ]
    },
    {
      "cell_type": "markdown",
      "metadata": {
        "id": "_XhZDocFyXhw",
        "colab_type": "text"
      },
      "source": [
        "class homesweethome()\n",
        "room\n",
        "bedroom\n",
        "kitchen\n",
        "bathroom\n",
        "store room\n",
        "window\n",
        "eletronics\n",
        "furniture\n"
      ]
    },
    {
      "cell_type": "markdown",
      "metadata": {
        "id": "X58BpWuNAN61",
        "colab_type": "text"
      },
      "source": [
        "d"
      ]
    },
    {
      "cell_type": "code",
      "metadata": {
        "id": "omUoI6FLIqsI",
        "colab_type": "code",
        "outputId": "70c35904-322f-4282-b488-250f555c26f8",
        "colab": {
          "base_uri": "https://localhost:8080/",
          "height": 52
        }
      },
      "source": [
        "x=input(\"mkl\")\n",
        "print(x)"
      ],
      "execution_count": 0,
      "outputs": [
        {
          "output_type": "stream",
          "text": [
            "mkl5\n",
            "5\n"
          ],
          "name": "stdout"
        }
      ]
    },
    {
      "cell_type": "code",
      "metadata": {
        "id": "rruHlBeSLdC_",
        "colab_type": "code",
        "outputId": "eea4f96d-ccf4-4b42-d6be-14d300b06d15",
        "colab": {
          "base_uri": "https://localhost:8080/",
          "height": 245
        }
      },
      "source": [
        "x=[1,2,3,4,5,6,8,9]\n",
        "\n",
        "\n",
        "def mean():\n",
        "  y=0\n",
        "  for i in x:\n",
        "    y+=i / len(x)\n",
        "  g=y\n",
        "  print(\"sum is\",g)\n",
        "  \n",
        "mean()\n",
        "\n",
        "def median():\n",
        "  if len(list)%2 != 0:\n",
        "    n = int(len(list)/2)\n",
        "    median = list[n]\n",
        "    return median\n",
        "  else:\n",
        "    m = int(len(list)/2) - 1\n",
        "    n = int(len(list)/2)\n",
        "    avg = int(list[m]) + int(list [n])\n",
        "    median = avg / 2\n",
        "    return median\n",
        "    \n",
        "def mode(list): \n",
        "\treturn mode(list) \n",
        "\n",
        "mean_value = calculate_mean() \n",
        "print(f\"Mean : {mean_value}\")\n",
        "\n",
        "median_value = calculate_median()\n",
        "print(f\"Median : {median_value}\")\n",
        "\n",
        "mode_value = calculate_mode(list)\n",
        "print(f\"Mode : {mode_value}\")\n",
        "def variance():\n",
        "  sumission = 0\n",
        "  for i in list:\n",
        "    difference = (int(i) - mean_value)**2\n",
        "    sumission = sumission + difference\n",
        "  return sumission\n",
        "\n",
        "variance = calculate_variance()\n",
        "print(f\"Variance : {variance}\")\n",
        "\n",
        "standard_deviation = sqrt(calculate_variance())\n",
        "print(f\"Standard Deviation : {standard_deviation}\")\n",
        "  "
      ],
      "execution_count": 0,
      "outputs": [
        {
          "output_type": "stream",
          "text": [
            "sum is 4.75\n"
          ],
          "name": "stdout"
        },
        {
          "output_type": "error",
          "ename": "NameError",
          "evalue": "ignored",
          "traceback": [
            "\u001b[0;31m---------------------------------------------------------------------------\u001b[0m",
            "\u001b[0;31mNameError\u001b[0m                                 Traceback (most recent call last)",
            "\u001b[0;32m<ipython-input-1-77ef8dc4fe6e>\u001b[0m in \u001b[0;36m<module>\u001b[0;34m()\u001b[0m\n\u001b[1;32m     26\u001b[0m         \u001b[0;32mreturn\u001b[0m \u001b[0mmode\u001b[0m\u001b[0;34m(\u001b[0m\u001b[0mlist\u001b[0m\u001b[0;34m)\u001b[0m\u001b[0;34m\u001b[0m\u001b[0;34m\u001b[0m\u001b[0m\n\u001b[1;32m     27\u001b[0m \u001b[0;34m\u001b[0m\u001b[0m\n\u001b[0;32m---> 28\u001b[0;31m \u001b[0mmean_value\u001b[0m \u001b[0;34m=\u001b[0m \u001b[0mcalculate_mean\u001b[0m\u001b[0;34m(\u001b[0m\u001b[0;34m)\u001b[0m\u001b[0;34m\u001b[0m\u001b[0;34m\u001b[0m\u001b[0m\n\u001b[0m\u001b[1;32m     29\u001b[0m \u001b[0mprint\u001b[0m\u001b[0;34m(\u001b[0m\u001b[0;34mf\"Mean : {mean_value}\"\u001b[0m\u001b[0;34m)\u001b[0m\u001b[0;34m\u001b[0m\u001b[0;34m\u001b[0m\u001b[0m\n\u001b[1;32m     30\u001b[0m \u001b[0;34m\u001b[0m\u001b[0m\n",
            "\u001b[0;31mNameError\u001b[0m: name 'calculate_mean' is not defined"
          ]
        }
      ]
    }
  ]
}